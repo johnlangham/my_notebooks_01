{
 "cells": [
  {
   "cell_type": "markdown",
   "id": "160abb32",
   "metadata": {},
   "source": [
    "# heading 1\n",
    "## heading 2\n",
    "### heading 3\n",
    "\n",
    "Mary had a little Bream,<br>\n",
    "It's scales was burnished bronze.<br>\n",
    "And everywhere that Mary went<br>\n",
    "She fed it buttered scones.<br>\n",
    "\n",
    "**bold text**\n",
    "*italicized text*\n",
    "> blockquote\n",
    "1. first item\n",
    "2. second item\n",
    "3. third item\n",
    "- first item\n",
    "- second item\n",
    "- third item\n",
    "\n",
    "`BREAM: PROC OPTIONS(MAIN) REORDER;`\n",
    "\n",
    "---\n",
    "\n",
    "`GOTO LOOP`"
   ]
  },
  {
   "cell_type": "code",
   "execution_count": 1,
   "id": "3ae82cea",
   "metadata": {},
   "outputs": [
    {
     "name": "stdout",
     "output_type": "stream",
     "text": [
      "Hello Bream\n"
     ]
    }
   ],
   "source": [
    "print(\"Hello Bream\")"
   ]
  },
  {
   "cell_type": "code",
   "execution_count": null,
   "id": "3ab4f1c8",
   "metadata": {},
   "outputs": [],
   "source": []
  }
 ],
 "metadata": {
  "kernelspec": {
   "display_name": "Python 3 (ipykernel)",
   "language": "python",
   "name": "python3"
  },
  "language_info": {
   "codemirror_mode": {
    "name": "ipython",
    "version": 3
   },
   "file_extension": ".py",
   "mimetype": "text/x-python",
   "name": "python",
   "nbconvert_exporter": "python",
   "pygments_lexer": "ipython3",
   "version": "3.9.7"
  }
 },
 "nbformat": 4,
 "nbformat_minor": 5
}
